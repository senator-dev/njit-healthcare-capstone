{
 "cells": [
  {
   "cell_type": "code",
   "execution_count": 0,
   "metadata": {
    "application/vnd.databricks.v1+cell": {
     "cellMetadata": {
      "byteLimit": 2048000,
      "rowLimit": 10000
     },
     "inputWidgets": {},
     "nuid": "c157c85d-8da7-42a8-9a58-af6e22d58189",
     "showTitle": false,
     "title": ""
    }
   },
   "outputs": [],
   "source": [
    "from selenium import webdriver\n",
    "from selenium.webdriver.common.by import By\n",
    "from selenium.webdriver.chrome.options import Options\n",
    "from selenium.webdriver.chrome.service import Service\n",
    "import re\n",
    "import time\n",
    "import os\n",
    "import numpy as np\n",
    "import pandas as pd\n",
    "from itertools import product\n",
    "import concurrent.futures"
   ]
  },
  {
   "cell_type": "code",
   "execution_count": 0,
   "metadata": {
    "application/vnd.databricks.v1+cell": {
     "cellMetadata": {
      "byteLimit": 2048000,
      "rowLimit": 10000
     },
     "inputWidgets": {},
     "nuid": "d2802505-6424-4a6a-bf8e-6f441258a8d6",
     "showTitle": false,
     "title": ""
    }
   },
   "outputs": [],
   "source": [
    "URL = \"https://wonder.cdc.gov/cancer-v2021.HTML\""
   ]
  },
  {
   "cell_type": "code",
   "execution_count": 0,
   "metadata": {
    "application/vnd.databricks.v1+cell": {
     "cellMetadata": {
      "byteLimit": 2048000,
      "rowLimit": 10000
     },
     "inputWidgets": {},
     "nuid": "9d22c9d2-2d51-4dff-8809-eaae3481b46a",
     "showTitle": false,
     "title": ""
    }
   },
   "outputs": [],
   "source": [
    "def create_driver():\n",
    "    chrome_options = webdriver.ChromeOptions()\n",
    "    chrome_options.add_argument(\"--headless\")\n",
    "    chrome_options.add_argument(\"--disable-gpu\")\n",
    "    chrome_options.add_argument(\"--window-size=1920,1080\")  \n",
    "    chrome_options.add_argument(\"--no-sandbox\")\n",
    "    chrome_options.add_argument(\"--disable-dev-shm-usage\")\n",
    "    service = Service()\n",
    "    driver = webdriver.Chrome(options=chrome_options, service=service)\n",
    "    return driver\n"
   ]
  },
  {
   "cell_type": "code",
   "execution_count": 0,
   "metadata": {
    "application/vnd.databricks.v1+cell": {
     "cellMetadata": {
      "byteLimit": 2048000,
      "rowLimit": 10000
     },
     "inputWidgets": {},
     "nuid": "9d9d6fa3-6730-468b-a56a-82981f8740b3",
     "showTitle": false,
     "title": ""
    }
   },
   "outputs": [],
   "source": [
    "MSA_SELECT_ID = \"SD198.V3\"\n",
    "MSA_OPTION_ID = \"RO_locationD198.V3\"\n",
    "YEAR_SELECT_ID = \"SD198.V1\"\n",
    "SEX_SELECT_ID = \"SD198.V9\"\n",
    "AGE_GROUP_SELECT_ID = \"SD198.V5\"\n",
    "ETHNICITY_SELECT_ID = \"SD198.V6\"\n",
    "RACE_SELECT_ID = \"SD198.V4\"\n",
    "CANCER_SITES_SELECT_ID = \"SD198.V8\"\n",
    "FOOTER_BUTTONS_CLASS = \"footer-buttons\"\n",
    "SEND_BUTTON_VALUE = \"Send\""
   ]
  },
  {
   "cell_type": "code",
   "execution_count": 0,
   "metadata": {
    "application/vnd.databricks.v1+cell": {
     "cellMetadata": {
      "byteLimit": 2048000,
      "rowLimit": 10000
     },
     "inputWidgets": {},
     "nuid": "d816ce1d-4ac6-455d-9829-4e3d6bafe492",
     "showTitle": false,
     "title": ""
    }
   },
   "outputs": [],
   "source": [
    "DESELECT_DICT = {\n",
    "    MSA_SELECT_ID: \"10900\",\n",
    "    YEAR_SELECT_ID: \"2002\",\n",
    "    SEX_SELECT_ID: \"F\",\n",
    "    AGE_GROUP_SELECT_ID: \"15-19\",\n",
    "    ETHNICITY_SELECT_ID: \"2186-5\",\n",
    "    RACE_SELECT_ID: \"2054-5\",\n",
    "    CANCER_SITES_SELECT_ID: \"20030\"\n",
    "}"
   ]
  },
  {
   "cell_type": "code",
   "execution_count": 0,
   "metadata": {
    "application/vnd.databricks.v1+cell": {
     "cellMetadata": {
      "byteLimit": 2048000,
      "rowLimit": 10000
     },
     "inputWidgets": {},
     "nuid": "c8bec6c6-7a22-476f-a45b-272a4686d5c5",
     "showTitle": false,
     "title": ""
    }
   },
   "outputs": [],
   "source": [
    "def get_select_options(select_id, driver):\n",
    "    select = driver.find_element(By.ID, select_id)\n",
    "    options = select.find_elements(By.XPATH, \"./*\")\n",
    "    value_options = {option.get_property('value'): option for option in options}\n",
    "    name_values = {re.sub(r'\\(\\d+\\)', '', option.text).strip(): option.get_property('value') for option in options}\n",
    "    return name_values "
   ]
  },
  {
   "cell_type": "code",
   "execution_count": 0,
   "metadata": {
    "application/vnd.databricks.v1+cell": {
     "cellMetadata": {
      "byteLimit": 2048000,
      "rowLimit": 10000
     },
     "inputWidgets": {},
     "nuid": "9211cbd2-6268-4293-9b0f-0b004bf8038f",
     "showTitle": false,
     "title": ""
    }
   },
   "outputs": [],
   "source": [
    "def select_msa_option(driver):\n",
    "    msa_option = driver.find_element(By.ID, MSA_OPTION_ID)\n",
    "    msa_option.click()"
   ]
  },
  {
   "cell_type": "code",
   "execution_count": 0,
   "metadata": {
    "application/vnd.databricks.v1+cell": {
     "cellMetadata": {
      "byteLimit": 2048000,
      "rowLimit": 10000
     },
     "inputWidgets": {},
     "nuid": "43ecf91b-24ab-4c72-9f35-5d3c05a4e7b9",
     "showTitle": false,
     "title": ""
    }
   },
   "outputs": [],
   "source": [
    "driver = create_driver()\n",
    "driver.get(URL)"
   ]
  },
  {
   "cell_type": "code",
   "execution_count": 0,
   "metadata": {
    "application/vnd.databricks.v1+cell": {
     "cellMetadata": {
      "byteLimit": 2048000,
      "rowLimit": 10000
     },
     "inputWidgets": {},
     "nuid": "d17a9ed0-696d-4c60-91e5-cbc07f0fa552",
     "showTitle": false,
     "title": ""
    }
   },
   "outputs": [],
   "source": [
    "select_msa_option(driver)\n",
    "msa_name_values = get_select_options(MSA_SELECT_ID, driver)\n",
    "year_name_values = get_select_options(YEAR_SELECT_ID, driver)\n",
    "sex_name_values = get_select_options(SEX_SELECT_ID, driver)\n",
    "age_group_name_values = get_select_options(AGE_GROUP_SELECT_ID, driver)\n",
    "ethnicity_name_values = get_select_options(ETHNICITY_SELECT_ID, driver)\n",
    "race_name_values = get_select_options(RACE_SELECT_ID, driver)\n",
    "cancer_site_name_values = get_select_options(CANCER_SITES_SELECT_ID, driver)\n"
   ]
  },
  {
   "cell_type": "code",
   "execution_count": 0,
   "metadata": {
    "application/vnd.databricks.v1+cell": {
     "cellMetadata": {
      "byteLimit": 2048000,
      "rowLimit": 10000
     },
     "inputWidgets": {},
     "nuid": "7d4e8dca-5f05-445f-9916-2571255bc9f5",
     "showTitle": false,
     "title": ""
    }
   },
   "outputs": [],
   "source": [
    "driver.quit()"
   ]
  },
  {
   "cell_type": "code",
   "execution_count": 0,
   "metadata": {
    "application/vnd.databricks.v1+cell": {
     "cellMetadata": {
      "byteLimit": 2048000,
      "rowLimit": 10000
     },
     "inputWidgets": {},
     "nuid": "eac5336a-d611-426a-b3a2-e1e35718206e",
     "showTitle": false,
     "title": ""
    }
   },
   "outputs": [],
   "source": [
    "msa_name_values.pop('The United States')\n",
    "year_name_values.pop(\"All Years\")\n",
    "sex_name_values.pop(\"All Sexes\")\n",
    "age_group_name_values.pop(\"All Ages\")\n",
    "ethnicity_name_values.pop(\"All Ethnicities\")\n",
    "race_name_values.pop(\"All Races\")\n",
    "cancer_site_name_values = {\"Gallbladder\": cancer_site_name_values[\"Gallbladder\"], \"Lung and Bronchus\": cancer_site_name_values[\"Lung and Bronchus\"]}\n"
   ]
  },
  {
   "cell_type": "code",
   "execution_count": 0,
   "metadata": {
    "application/vnd.databricks.v1+cell": {
     "cellMetadata": {
      "byteLimit": 2048000,
      "rowLimit": 10000
     },
     "inputWidgets": {},
     "nuid": "c6dcb600-b816-4e4f-b561-82f3f2363a9a",
     "showTitle": false,
     "title": ""
    }
   },
   "outputs": [],
   "source": [
    "total_expected_rows = len(msa_name_values) * len(year_name_values) * len(sex_name_values) * len(age_group_name_values) * len(ethnicity_name_values) * len(race_name_values) * len(cancer_site_name_values)"
   ]
  },
  {
   "cell_type": "code",
   "execution_count": 0,
   "metadata": {
    "application/vnd.databricks.v1+cell": {
     "cellMetadata": {
      "byteLimit": 2048000,
      "rowLimit": 10000
     },
     "inputWidgets": {},
     "nuid": "bb5e7cbf-a7f8-4744-a9a2-4a93b3b81ef5",
     "showTitle": false,
     "title": ""
    }
   },
   "outputs": [],
   "source": [
    "data = pd.DataFrame(list(product(msa_name_values, year_name_values, sex_name_values, age_group_name_values, ethnicity_name_values, race_name_values, cancer_site_name_values)), columns=['msa', 'year', 'sex', 'age_group', 'ethnicity', 'race', 'cancer_site'])"
   ]
  },
  {
   "cell_type": "code",
   "execution_count": 0,
   "metadata": {
    "application/vnd.databricks.v1+cell": {
     "cellMetadata": {
      "byteLimit": 2048000,
      "rowLimit": 10000
     },
     "inputWidgets": {},
     "nuid": "33a70551-59f9-4079-9564-8f13acae103d",
     "showTitle": false,
     "title": ""
    }
   },
   "outputs": [],
   "source": [
    "n_buckets = int(data.shape[0] / 100)\n",
    "data['bucket'] = np.random.permutation(data.shape[0]) % n_buckets"
   ]
  },
  {
   "cell_type": "code",
   "execution_count": 0,
   "metadata": {
    "application/vnd.databricks.v1+cell": {
     "cellMetadata": {
      "byteLimit": 2048000,
      "rowLimit": 10000
     },
     "inputWidgets": {},
     "nuid": "cf60b25b-ef33-4e72-915d-25db5f88691e",
     "showTitle": false,
     "title": ""
    }
   },
   "outputs": [],
   "source": [
    "data['index'] = list(range(data.shape[0]))\n",
    "data['count'] = np.nan"
   ]
  },
  {
   "cell_type": "code",
   "execution_count": 0,
   "metadata": {
    "application/vnd.databricks.v1+cell": {
     "cellMetadata": {
      "byteLimit": 2048000,
      "rowLimit": 10000
     },
     "inputWidgets": {},
     "nuid": "186a5e1d-80d0-42fa-aeaa-1742cdf487b1",
     "showTitle": false,
     "title": ""
    }
   },
   "outputs": [],
   "source": [
    "# spark.sql(\"\"\"create or replace table !!!cancer_incidence!!! (\n",
    "#   msa string,\n",
    "#   year string,\n",
    "#   sex string,\n",
    "#   age_group string,\n",
    "#   ethnicity string,\n",
    "#   race string,\n",
    "#   cancer_site string,\n",
    "#   bucket string,\n",
    "#   index int,\n",
    "#   count float\n",
    "# )\"\"\")"
   ]
  },
  {
   "cell_type": "code",
   "execution_count": 0,
   "metadata": {
    "application/vnd.databricks.v1+cell": {
     "cellMetadata": {
      "byteLimit": 2048000,
      "rowLimit": 10000
     },
     "inputWidgets": {},
     "nuid": "c8b51062-4d35-46a6-89bf-7f9160d1a44e",
     "showTitle": false,
     "title": ""
    }
   },
   "outputs": [],
   "source": [
    "def select_msa_option(driver):\n",
    "    msa_option = driver.find_element(By.ID, MSA_OPTION_ID)\n",
    "    msa_option.click()\n",
    "\n",
    "def select_send(driver):\n",
    "    footer_buttons = driver.find_element(By.CLASS_NAME, FOOTER_BUTTONS_CLASS)\n",
    "    send_button = footer_buttons.find_element(By.XPATH, f'//*[@value=\"{SEND_BUTTON_VALUE}\"]')\n",
    "    send_button.click()\n",
    "\n",
    "def select_option(select_id, option_value, driver):\n",
    "    select = driver.find_element(By.ID, select_id)\n",
    "    option = driver.find_element(By.XPATH, f'//*[@value=\"{option_value}\"]')\n",
    "    deselect_option = driver.find_element(By.XPATH, f'//*[@value=\"{DESELECT_DICT[select_id]}\"]')\n",
    "\n",
    "    select.click()\n",
    "    deselect_option.click()\n",
    "    option.click()\n",
    "\n",
    "\n",
    "def one_download(row, driver):\n",
    "    msa, year, sex, age_group, ethnicity, race, cancer_site = row\n",
    "    select_msa_option(driver)\n",
    "    select_option(MSA_SELECT_ID, msa_name_values[msa], driver)\n",
    "    select_option(YEAR_SELECT_ID, year_name_values[year], driver)\n",
    "    select_option(SEX_SELECT_ID, sex_name_values[sex], driver)\n",
    "    select_option(AGE_GROUP_SELECT_ID, age_group_name_values[age_group], driver)\n",
    "    select_option(ETHNICITY_SELECT_ID, ethnicity_name_values[ethnicity], driver)\n",
    "    select_option(RACE_SELECT_ID, race_name_values[race], driver)\n",
    "    select_option(CANCER_SITES_SELECT_ID, cancer_site_name_values[cancer_site], driver)\n",
    "    select_send(driver)\n",
    "\n",
    "    try:\n",
    "        driver.find_element(By.ID, 'error-messages') \n",
    "        count = 0\n",
    "    except Exception as err:\n",
    "        table = driver.find_element(By.CLASS_NAME, 'response-form')\n",
    "        count = int(table.find_element(By.TAG_NAME, 'td').text)\n",
    "\n",
    "    driver.get(URL)\n",
    "    return count\n",
    "\n",
    "def download_multiple(bucket):\n",
    "    print(f'Processing {bucket}')\n",
    "    df = data[data['bucket'] == bucket].copy()\n",
    "    driver = create_driver()\n",
    "    driver.get(URL)\n",
    "    df['count'] = df.drop(columns=['index', 'bucket', 'count']).apply(one_download, driver=driver, axis=1)\n",
    "    spark.createDataFrame(df).createOrReplaceTempView(\"new_insert\")\n",
    "\n",
    "    spark.sql(\"\"\"\n",
    "           insert into cancer_incidence  \n",
    "           select * from new_insert\n",
    "    \"\"\")\n",
    "    driver.quit()\n",
    "    print(f'Finished {bucket}')\n",
    "\n"
   ]
  },
  {
   "cell_type": "code",
   "execution_count": 0,
   "metadata": {
    "application/vnd.databricks.v1+cell": {
     "cellMetadata": {
      "byteLimit": 2048000,
      "rowLimit": 10000
     },
     "inputWidgets": {},
     "nuid": "7cbd5959-9f81-4e90-8b2b-9e99ca8e8054",
     "showTitle": false,
     "title": ""
    }
   },
   "outputs": [],
   "source": [
    "existing_buckets = spark.sql(\"select distinct bucket from default.cancer_incidence\").toPandas()"
   ]
  },
  {
   "cell_type": "code",
   "execution_count": 0,
   "metadata": {
    "application/vnd.databricks.v1+cell": {
     "cellMetadata": {
      "byteLimit": 2048000,
      "rowLimit": 10000
     },
     "inputWidgets": {},
     "nuid": "a396d716-ee6b-4620-8b88-9edcbd3f5c2b",
     "showTitle": false,
     "title": ""
    }
   },
   "outputs": [],
   "source": [
    "155 * 100"
   ]
  },
  {
   "cell_type": "code",
   "execution_count": 0,
   "metadata": {
    "application/vnd.databricks.v1+cell": {
     "cellMetadata": {
      "byteLimit": 2048000,
      "rowLimit": 10000
     },
     "inputWidgets": {},
     "nuid": "9622685f-e48e-4d18-b684-91380a44f5d3",
     "showTitle": false,
     "title": ""
    }
   },
   "outputs": [],
   "source": [
    "failed = []\n",
    "for bucket in data['bucket'].unique():\n",
    "  try:\n",
    "    download_multiple(bucket)\n",
    "  except Exception as err:\n",
    "    failed.append([bucket, err])"
   ]
  },
  {
   "cell_type": "code",
   "execution_count": 0,
   "metadata": {
    "application/vnd.databricks.v1+cell": {
     "cellMetadata": {
      "byteLimit": 2048000,
      "rowLimit": 10000
     },
     "inputWidgets": {},
     "nuid": "f9b466de-f7bb-4d3e-ad09-27d929047884",
     "showTitle": false,
     "title": ""
    }
   },
   "outputs": [],
   "source": [
    "failed"
   ]
  },
  {
   "cell_type": "code",
   "execution_count": 0,
   "metadata": {
    "application/vnd.databricks.v1+cell": {
     "cellMetadata": {
      "byteLimit": 2048000,
      "rowLimit": 10000
     },
     "inputWidgets": {},
     "nuid": "d4bd52a1-6c2d-4d7f-8a74-34cc28372a0b",
     "showTitle": false,
     "title": ""
    }
   },
   "outputs": [],
   "source": []
  }
 ],
 "metadata": {
  "application/vnd.databricks.v1+notebook": {
   "dashboards": [],
   "environmentMetadata": null,
   "language": "python",
   "notebookMetadata": {
    "mostRecentlyExecutedCommandWithImplicitDF": {
     "commandId": 3286455930156843,
     "dataframes": [
      "_sqldf"
     ]
    },
    "pythonIndentUnit": 2
   },
   "notebookName": "Cancer Incidence",
   "widgets": {}
  },
  "kernelspec": {
   "display_name": "chris-env",
   "language": "python",
   "name": "python3"
  },
  "language_info": {
   "codemirror_mode": {
    "name": "ipython",
    "version": 3
   },
   "file_extension": ".py",
   "mimetype": "text/x-python",
   "name": "python",
   "nbconvert_exporter": "python",
   "pygments_lexer": "ipython3",
   "version": "3.12.7"
  }
 },
 "nbformat": 4,
 "nbformat_minor": 0
}
