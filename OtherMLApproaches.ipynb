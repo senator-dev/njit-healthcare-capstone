{
  "nbformat": 4,
  "nbformat_minor": 0,
  "metadata": {
    "colab": {
      "provenance": []
    },
    "kernelspec": {
      "name": "python3",
      "display_name": "Python 3"
    },
    "language_info": {
      "name": "python"
    }
  },
  "cells": [
    {
      "cell_type": "code",
      "source": [
        "import numpy as np\n",
        "import pandas as pd\n",
        "import matplotlib.pyplot as plt\n",
        "import seaborn as sns\n",
        "from sklearn.preprocessing import StandardScaler\n",
        "from sklearn.linear_model import LinearRegression\n",
        "from sklearn.svm import LinearSVR\n",
        "from sklearn.model_selection import train_test_split\n",
        "from sklearn.metrics import mean_squared_error, mean_absolute_error, r2_score"
      ],
      "metadata": {
        "id": "omoi_K7bqqmy"
      },
      "execution_count": 6,
      "outputs": []
    },
    {
      "cell_type": "markdown",
      "source": [
        "# Linear Regression & SVM Regressor"
      ],
      "metadata": {
        "id": "xDdufE6v7BeP"
      }
    },
    {
      "cell_type": "markdown",
      "source": [
        "## Bladder Data"
      ],
      "metadata": {
        "id": "e9i3EKtEBrpP"
      }
    },
    {
      "cell_type": "code",
      "source": [
        "# Import data\n",
        "bladder_df = pd.read_csv('bladder_no_geo.csv')\n",
        "# print(bladder_df.head())\n",
        "# print(bladder_df.columns)\n",
        "\n",
        "# Preprocess data\n",
        "bladder_df = bladder_df.drop(columns=[\"Unnamed: 0.1\", \"geo_code\"]) # drop unnecessary columns\n",
        "bladder_df.fillna(0, inplace=True) # fill NaN values w/ 0\n",
        "\n",
        "# Extract feature and target features\n",
        "X = bladder_df.drop(columns=['county_count'])\n",
        "y = bladder_df['county_count']\n",
        "\n",
        "# Split data\n",
        "X_train, X_test, y_train, y_test = train_test_split(X, y, test_size=0.25, random_state=11)\n",
        "\n",
        "# Standardize features for SVR\n",
        "scaler = StandardScaler()\n",
        "X_train_scaled = scaler.fit_transform(X_train)\n",
        "X_test_scaled = scaler.transform(X_test)\n",
        "\n",
        "# Create models\n",
        "linreg_model = LinearRegression()\n",
        "svr_model = LinearSVR(max_iter=5000)\n",
        "\n",
        "# Fit data to models\n",
        "linreg_model.fit(X_train, y_train)\n",
        "svr_model.fit(X_train_scaled, y_train)\n",
        "\n",
        "# Make predictions\n",
        "y_pred_linreg = linreg_model.predict(X_test)\n",
        "y_pred_svr = svr_model.predict(X_test_scaled)\n",
        "\n",
        "# Evaluate Linear Regression\n",
        "mse_linreg = mean_squared_error(y_test, y_pred_linreg)\n",
        "mae_linreg = mean_absolute_error(y_test, y_pred_linreg)\n",
        "r2_linreg = r2_score(y_test, y_pred_linreg)\n",
        "\n",
        "# Evaluate SVR\n",
        "mse_svr = mean_squared_error(y_test, y_pred_svr)\n",
        "mae_svr = mean_absolute_error(y_test, y_pred_svr)\n",
        "r2_svr = r2_score(y_test, y_pred_svr)\n",
        "\n",
        "# Print results\n",
        "print(\"Linear Regression Performance\\n\")\n",
        "print(f\"Mean Squared Error: {mse_linreg}\")\n",
        "print(f\"Mean Absolute Error: {mae_linreg}\")\n",
        "print(f\"R2 Score: {r2_linreg}\")\n",
        "\n",
        "print(\"\\nLinear SVR Performance\\n\")\n",
        "print(f\"Mean Squared Error: {mse_svr}\")\n",
        "print(f\"Mean Absolute Error: {mae_svr}\")\n",
        "print(f\"R2 Score: {r2_svr}\")"
      ],
      "metadata": {
        "colab": {
          "base_uri": "https://localhost:8080/",
          "height": 0
        },
        "id": "zZfHnSVuBwKy",
        "outputId": "955f0953-ae28-472b-b877-2a2718864633"
      },
      "execution_count": 7,
      "outputs": [
        {
          "output_type": "stream",
          "name": "stdout",
          "text": [
            "Linear Regression Performance\n",
            "\n",
            "Mean Squared Error: 92376.78720355922\n",
            "Mean Absolute Error: 2.8620694583966437\n",
            "R2 Score: -46115.68430073036\n",
            "\n",
            "Linear SVR Performance\n",
            "\n",
            "Mean Squared Error: 40595350.66164783\n",
            "Mean Absolute Error: 48.0168785842276\n",
            "R2 Score: -20266161.39007419\n"
          ]
        },
        {
          "output_type": "stream",
          "name": "stderr",
          "text": [
            "/usr/local/lib/python3.11/dist-packages/sklearn/svm/_base.py:1249: ConvergenceWarning: Liblinear failed to converge, increase the number of iterations.\n",
            "  warnings.warn(\n"
          ]
        }
      ]
    },
    {
      "cell_type": "markdown",
      "source": [
        "## Lung Data"
      ],
      "metadata": {
        "id": "2jtKa0qKqm5x"
      }
    },
    {
      "cell_type": "code",
      "source": [
        "# Import data\n",
        "lung_df = pd.read_csv('lung_no_geo.csv')\n",
        "# print(lung_df.head())\n",
        "# print(lung_df.columns)\n",
        "\n",
        "# Preprocess data\n",
        "lung_df = lung_df.drop(columns=[\"Unnamed: 0.1\", \"geo_code\"]) # drop unnecessary columns\n",
        "lung_df.fillna(0, inplace=True) # fill NaN values w/ 0\n",
        "\n",
        "# Extract feature and target features\n",
        "X = lung_df.drop(columns=['county_count'])\n",
        "y = lung_df['county_count']\n",
        "\n",
        "# Split data\n",
        "X_train, X_test, y_train, y_test = train_test_split(X, y, test_size=0.25, random_state=11)\n",
        "\n",
        "# Standardize features for SVR\n",
        "scaler = StandardScaler()\n",
        "X_train_scaled = scaler.fit_transform(X_train)\n",
        "X_test_scaled = scaler.transform(X_test)\n",
        "\n",
        "# Create models\n",
        "linreg_model = LinearRegression()\n",
        "svr_model = LinearSVR(max_iter=5000)\n",
        "\n",
        "# Fit data to models\n",
        "linreg_model.fit(X_train, y_train)\n",
        "svr_model.fit(X_train_scaled, y_train)\n",
        "\n",
        "# Make predictions\n",
        "y_pred_linreg = linreg_model.predict(X_test)\n",
        "y_pred_svr = svr_model.predict(X_test_scaled)\n",
        "\n",
        "# Evaluate Linear Regression\n",
        "mse_linreg = mean_squared_error(y_test, y_pred_linreg)\n",
        "mae_linreg = mean_absolute_error(y_test, y_pred_linreg)\n",
        "r2_linreg = r2_score(y_test, y_pred_linreg)\n",
        "\n",
        "# Evaluate SVR\n",
        "mse_svr = mean_squared_error(y_test, y_pred_svr)\n",
        "mae_svr = mean_absolute_error(y_test, y_pred_svr)\n",
        "r2_svr = r2_score(y_test, y_pred_svr)\n",
        "\n",
        "# Print results\n",
        "print(\"Linear Regression Performance\\n\")\n",
        "print(f\"Mean Squared Error: {mse_linreg}\")\n",
        "print(f\"Mean Absolute Error: {mae_linreg}\")\n",
        "print(f\"R2 Score: {r2_linreg}\")\n",
        "\n",
        "print(\"\\nLinear SVR Performance\\n\")\n",
        "print(f\"Mean Squared Error: {mse_svr}\")\n",
        "print(f\"Mean Absolute Error: {mae_svr}\")\n",
        "print(f\"R2 Score: {r2_svr}\")"
      ],
      "metadata": {
        "colab": {
          "base_uri": "https://localhost:8080/",
          "height": 0
        },
        "id": "FCULpccTqnOY",
        "outputId": "54f714f1-c825-4449-9b64-a3990616d1d3"
      },
      "execution_count": 8,
      "outputs": [
        {
          "output_type": "stream",
          "name": "stdout",
          "text": [
            "Linear Regression Performance\n",
            "\n",
            "Mean Squared Error: 785989.2048492278\n",
            "Mean Absolute Error: 8.503077199491146\n",
            "R2 Score: -48256.33703504918\n",
            "\n",
            "Linear SVR Performance\n",
            "\n",
            "Mean Squared Error: 857120724.5805377\n",
            "Mean Absolute Error: 219.5997452781534\n",
            "R2 Score: -52624594.13517479\n"
          ]
        },
        {
          "output_type": "stream",
          "name": "stderr",
          "text": [
            "/usr/local/lib/python3.11/dist-packages/sklearn/svm/_base.py:1249: ConvergenceWarning: Liblinear failed to converge, increase the number of iterations.\n",
            "  warnings.warn(\n"
          ]
        }
      ]
    }
  ]
}