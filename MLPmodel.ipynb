{
 "cells": [
  {
   "cell_type": "code",
   "execution_count": 14,
   "id": "3811b0c6",
   "metadata": {},
   "outputs": [],
   "source": [
    "import numpy as np\n",
    "from pathlib import Path\n",
    "from sklearn.compose import TransformedTargetRegressor\n",
    "from sklearn.feature_selection import VarianceThreshold, SelectKBest, mutual_info_regression\n",
    "from sklearn.model_selection import train_test_split\n",
    "from sklearn.neural_network import MLPRegressor\n",
    "from sklearn.pipeline import Pipeline\n",
    "from sklearn.preprocessing import StandardScaler\n",
    "from sklearn.metrics import mean_absolute_error, mean_squared_error, r2_score"
   ]
  },
  {
   "cell_type": "code",
   "execution_count": 15,
   "id": "f5e91222",
   "metadata": {},
   "outputs": [],
   "source": [
    "DATA = {\n",
    "    \"lung\":    dict(X=\"lung_features.npy\",    y=\"lung_target.npy\"),\n",
    "    \"bladder\": dict(X=\"bladder_features.npy\", y=\"bladder_target.npy\")\n",
    "}"
   ]
  },
  {
   "cell_type": "code",
   "execution_count": null,
   "id": "a011c665",
   "metadata": {},
   "outputs": [],
   "source": [
    "def flatten(x):  # (n, t, p)  →  (n, t·p)\n",
    "    n, t, p = x.shape\n",
    "    return x.reshape(n, t * p)"
   ]
  },
  {
   "cell_type": "code",
   "execution_count": 17,
   "id": "b77ebcbf",
   "metadata": {},
   "outputs": [],
   "source": [
    "def mlp_baseline(name, seed=42, k=1024):\n",
    "    X = flatten(np.load(DATA[name][\"X\"]))\n",
    "    y = np.load(DATA[name][\"y\"])\n",
    "\n",
    "    Xtr, Xte, ytr, yte = train_test_split(X, y, test_size=0.2, random_state=seed)\n",
    "\n",
    "    pipe = Pipeline([\n",
    "        (\"const\", VarianceThreshold()),\n",
    "        (\"kbest\", SelectKBest(mutual_info_regression,\n",
    "                              k=min(k, X.shape[1]))),\n",
    "        (\"xscale\", StandardScaler(with_mean=False)),\n",
    "        (\"mlp\",   TransformedTargetRegressor(\n",
    "            regressor = MLPRegressor(hidden_layer_sizes=(128, 64, 32),\n",
    "                                      activation=\"relu\",\n",
    "                                      alpha=1e-3,\n",
    "                                      learning_rate_init=1e-3,\n",
    "                                      max_iter=400,\n",
    "                                      early_stopping=True,\n",
    "                                      n_iter_no_change=10,\n",
    "                                      random_state=seed),\n",
    "            transformer = StandardScaler()))\n",
    "    ])\n",
    "\n",
    "    pipe.fit(Xtr, ytr)\n",
    "    pred = pipe.predict(Xte)\n",
    "\n",
    "    return dict(\n",
    "        MAE = mean_absolute_error(yte, pred),\n",
    "        MSE = mean_squared_error(yte, pred),\n",
    "        R2  = r2_score(yte, pred)\n",
    "    )"
   ]
  },
  {
   "cell_type": "code",
   "execution_count": 18,
   "id": "398e8a59",
   "metadata": {},
   "outputs": [
    {
     "name": "stdout",
     "output_type": "stream",
     "text": [
      "LUNG      MAE=0.000887  MSE=0.00000215  R²=-0.333\n",
      "BLADDER   MAE=0.000274  MSE=0.00000019  R²=+0.226\n"
     ]
    }
   ],
   "source": [
    "for ds in (\"lung\", \"bladder\"):\n",
    "    scores = mlp_baseline(ds)\n",
    "    print(f\"{ds.upper():8}  \"\n",
    "          f\"MAE={scores['MAE']:.6f}  \"\n",
    "          f\"MSE={scores['MSE']:.8f}  \"\n",
    "          f\"R²={scores['R2']:+.3f}\")"
   ]
  }
 ],
 "metadata": {
  "kernelspec": {
   "display_name": "base",
   "language": "python",
   "name": "python3"
  },
  "language_info": {
   "codemirror_mode": {
    "name": "ipython",
    "version": 3
   },
   "file_extension": ".py",
   "mimetype": "text/x-python",
   "name": "python",
   "nbconvert_exporter": "python",
   "pygments_lexer": "ipython3",
   "version": "3.9.13"
  }
 },
 "nbformat": 4,
 "nbformat_minor": 5
}
