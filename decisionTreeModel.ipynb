{
 "cells": [
  {
   "cell_type": "code",
   "execution_count": 6,
   "metadata": {},
   "outputs": [],
   "source": [
    "import pandas as pd\n",
    "import numpy as np\n",
    "from sklearn.model_selection import train_test_split, GridSearchCV, KFold\n",
    "from sklearn.tree import DecisionTreeRegressor\n",
    "from sklearn.metrics import mean_absolute_error, mean_squared_error, r2_score\n",
    "import matplotlib.pyplot as plt"
   ]
  },
  {
   "cell_type": "code",
   "execution_count": 7,
   "metadata": {},
   "outputs": [],
   "source": [
    "def run_decision_tree_model(file_path, target_variable='county_count', missing_marker=-999):\n",
    "    df = pd.read_csv(file_path)\n",
    "    \n",
    "    df.replace([np.inf, -np.inf], np.nan, inplace=True)\n",
    "    df.fillna(missing_marker, inplace=True)\n",
    "    \n",
    "    X = df.drop(target_variable, axis=1)\n",
    "    y = df[target_variable]\n",
    "    \n",
    "    X = X.select_dtypes(include=[np.number])\n",
    "    \n",
    "    X_train, X_test, y_train, y_test = train_test_split(\n",
    "        X, y, test_size=0.2, random_state=42\n",
    "    )\n",
    "    \n",
    "    param_grid = {\n",
    "        'max_depth': [None, 5, 10, 15, 20],\n",
    "        'min_samples_split': [2, 5, 10],\n",
    "        'min_samples_leaf': [1, 2, 4]\n",
    "    }\n",
    "    \n",
    "    cv = KFold(n_splits=5, shuffle=True, random_state=42)\n",
    "    \n",
    "    grid_search = GridSearchCV(\n",
    "        DecisionTreeRegressor(random_state=42),\n",
    "        param_grid,\n",
    "        cv=cv,\n",
    "        scoring='neg_mean_absolute_error',\n",
    "        n_jobs=-1\n",
    "    )\n",
    "    \n",
    "    grid_search.fit(X_train, y_train)\n",
    "    best_model = grid_search.best_estimator_\n",
    "    \n",
    "    y_pred = best_model.predict(X_test)\n",
    "    mae = mean_absolute_error(y_test, y_pred)\n",
    "    mse = mean_squared_error(y_test, y_pred)\n",
    "    r2 = r2_score(y_test, y_pred)\n",
    "    \n",
    "    print(f\"File: {file_path}\")\n",
    "    print(\"Best hyperparameters:\", grid_search.best_params_)\n",
    "    print(\"Test set performance:\")\n",
    "    print(f\"Mean Absolute Error (MAE): {mae:.4f}\")\n",
    "    print(f\"Mean Squared Error (MSE): {mse:.4f}\")\n",
    "    print(f\"R^2 Score: {r2:.4f}\")\n",
    "        \n",
    "    return best_model, grid_search.best_params_, (mae, mse, r2)\n"
   ]
  },
  {
   "cell_type": "code",
   "execution_count": 9,
   "metadata": {},
   "outputs": [
    {
     "name": "stdout",
     "output_type": "stream",
     "text": [
      "Bladder Cancer Model\n",
      "File: bladder_no_geo.csv\n",
      "Best hyperparameters: {'max_depth': None, 'min_samples_leaf': 1, 'min_samples_split': 5}\n",
      "Test set performance:\n",
      "Mean Absolute Error (MAE): 0.1068\n",
      "Mean Squared Error (MSE): 0.2514\n",
      "R^2 Score: 0.8767\n",
      "\n",
      "Lung Cancer Model\n",
      "File: lung_no_geo.csv\n",
      "Best hyperparameters: {'max_depth': None, 'min_samples_leaf': 1, 'min_samples_split': 2}\n",
      "Test set performance:\n",
      "Mean Absolute Error (MAE): 0.2913\n",
      "Mean Squared Error (MSE): 1.4438\n",
      "R^2 Score: 0.9119\n"
     ]
    }
   ],
   "source": [
    "bladder_file = \"bladder_no_geo.csv\"\n",
    "lung_file = \"lung_no_geo.csv\"\n",
    "\n",
    "print(\"Bladder Cancer Model\")\n",
    "bladder_model, bladder_params, bladder_metrics = run_decision_tree_model(\n",
    "    bladder_file, \n",
    "    target_variable='county_count'\n",
    ")\n",
    "\n",
    "print(\"\\nLung Cancer Model\")\n",
    "lung_model, lung_params, lung_metrics = run_decision_tree_model(\n",
    "    lung_file, \n",
    "    target_variable='county_count'\n",
    ")"
   ]
  }
 ],
 "metadata": {
  "kernelspec": {
   "display_name": "base",
   "language": "python",
   "name": "python3"
  },
  "language_info": {
   "codemirror_mode": {
    "name": "ipython",
    "version": 3
   },
   "file_extension": ".py",
   "mimetype": "text/x-python",
   "name": "python",
   "nbconvert_exporter": "python",
   "pygments_lexer": "ipython3",
   "version": "3.9.13"
  }
 },
 "nbformat": 4,
 "nbformat_minor": 2
}
